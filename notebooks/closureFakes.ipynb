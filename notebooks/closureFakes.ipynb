{
 "cells": [
  {
   "cell_type": "code",
   "execution_count": 1,
   "id": "015fd25b-28ef-47fb-b949-653444a725b4",
   "metadata": {},
   "outputs": [
    {
     "name": "stdout",
     "output_type": "stream",
     "text": [
      "Welcome to JupyROOT 6.30/02\n"
     ]
    }
   ],
   "source": [
    "from utilities.io_tools import input_tools\n",
    "from utilities.styles import styles\n",
    "from utilities import common\n",
    "\n",
    "from wremnants import plot_tools\n",
    "import matplotlib as mpl\n",
    "from matplotlib import cm\n",
    "from matplotlib.colors import LogNorm\n",
    "from matplotlib import pyplot as plt\n",
    "\n",
    "import numpy as np\n",
    "from utilities import boostHistHelpers as hh\n",
    "import mplhep as hep\n",
    "from wremnants import histselections as sel\n",
    "\n",
    "from scipy.optimize import curve_fit\n",
    "\n",
    "colors = mpl.colormaps[\"tab10\"]"
   ]
  },
  {
   "cell_type": "code",
   "execution_count": 2,
   "id": "722c864e-d026-46fa-8233-a03e45f7db4e",
   "metadata": {},
   "outputs": [],
   "source": [
    "output_dir = \"/eos/home-d/dwalter/www/WMassAnalysis/240103_unfolding/\"\n",
    "histograms = \"/eos/user/c/cmsmwbot/ScheduledBuilds/999d40bf-8eb7-4e04-9684-afa6899b7e36/mw_with_mu_eta_pt.hdf5\""
   ]
  },
  {
   "cell_type": "code",
   "execution_count": 3,
   "id": "b2e81b2d-aebe-4f3d-bf0d-047d12b65ee4",
   "metadata": {},
   "outputs": [],
   "source": [
    "res, meta, _ = input_tools.read_infile(histograms)"
   ]
  },
  {
   "cell_type": "code",
   "execution_count": 4,
   "id": "5e073f02-d148-43b1-aa0f-8748433fc9f2",
   "metadata": {},
   "outputs": [],
   "source": [
    "# load histograms\n",
    "hQCD = res[\"QCDmuEnrichPt15PostVFP\"][\"output\"][\"nominal\"].get()"
   ]
  },
  {
   "cell_type": "code",
   "execution_count": 5,
   "id": "459e326b-62b7-4fa7-a59a-1ea9feea6123",
   "metadata": {},
   "outputs": [],
   "source": [
    "hQCDFake = sel.fakeHistABCD(hQCD, fakerate_integration_axes=[\"eta\",\"charge\"])\n",
    "hQCDSig = sel.signalHistWmass(hQCD)"
   ]
  },
  {
   "cell_type": "code",
   "execution_count": 6,
   "id": "d9688717-9c9d-401d-8d85-ea58890aac01",
   "metadata": {},
   "outputs": [],
   "source": [
    "hQCDFake_pt = hQCDFake.project(\"pt\")\n",
    "hQCDSig_pt = hQCDSig.project(\"pt\")"
   ]
  },
  {
   "cell_type": "code",
   "execution_count": 7,
   "id": "bade83fe-9d25-4244-b51a-278523f851df",
   "metadata": {},
   "outputs": [],
   "source": [
    "def plot(hss, labels, linestyles=None, h1ds_nom=None, ratio=True, flow=False, showFlow=False, vars=[\"pt\"], name=\"\", \n",
    "         fit=True, variances=False):\n",
    "\n",
    "    if linestyles is None:\n",
    "        linestyles = [\"-\"]*len(labels)\n",
    "    \n",
    "    if h1ds_nom is not None:\n",
    "        hs = [*hss, *h1ds_nom]\n",
    "        hr = [*[hh.divideHists(h1d, hss[0]) for h1d in hss], *[hh.divideHists(h1d, h1ds_nom[0]) for h1d in h1ds_nom]]\n",
    "    else:\n",
    "        hs = hss\n",
    "        hr = [hh.divideHists(h1d, hss[0]) for h1d in hss]\n",
    "\n",
    "    if variances:\n",
    "        ratio=False\n",
    "        for h in hs:\n",
    "            h.values(flow=True)[...] = np.sqrt(h.variances(flow=True))/h.values(flow=True)\n",
    "            h.variances(flow=True)[...] = np.zeros(h.values(flow=True).shape).astype(int)\n",
    "        for h in hr:\n",
    "            h.values(flow=True)[...] = np.sqrt(h.variances(flow=True))/h.values(flow=True)\n",
    "            h.variances(flow=True)[...] = np.zeros(h.values(flow=True).shape).astype(int)\n",
    "\n",
    "    ylabel=\"a.u.\"\n",
    "    if variances:\n",
    "        ylabel=\"Rel. uncertainty\"\n",
    "    \n",
    "    ymin = 0\n",
    "    ymax = None\n",
    "\n",
    "    ymax = ymax if ymax is not None else max([max(h.values(flow=showFlow)) for h in hs])\n",
    "    ymin = ymin if ymin is not None else min([min(h.values(flow=showFlow)) for h in hs])\n",
    "    yrange = ymax - ymin\n",
    "    ymin = ymin if ymin == 0 else ymin - yrange*0.3\n",
    "    ymax = ymax + yrange*0.3\n",
    "\n",
    "    if ratio:\n",
    "        fig, ax1, ax2 = plot_tools.figureWithRatio(hss[0], xlabel=f\"{'-'.join(vars)} Bin\", ylabel=ylabel,\n",
    "                                         rlabel=\"1./nominal\", rrange=(0.25, 1.75), cms_label=\"Preliminary\",\n",
    "                                         automatic_scale=False, width_scale=1.2, ylim=(ymin, ymax))\n",
    "    else:\n",
    "        fig, ax1 = plot_tools.figure(hss[0], xlabel=f\"{'-'.join(vars)} Bin\", ylabel=ylabel,\n",
    "                                         cms_label=\"Preliminary\",\n",
    "                                         automatic_scale=False, width_scale=1.2, ylim=(ymin, ymax))\n",
    "          \n",
    "    hep.histplot(\n",
    "        hs,\n",
    "        histtype = \"step\",\n",
    "        color = [colors(i) for i in range(len(hss))],\n",
    "        label = labels[:len(hs)],\n",
    "        linestyle = linestyles[:len(hs)],\n",
    "        ax = ax1\n",
    "    )\n",
    "\n",
    "    if ratio:\n",
    "        hep.histplot(\n",
    "            hr,\n",
    "            yerr=False,\n",
    "            histtype = \"step\",\n",
    "            color = [colors(i) for i in range(len(hss))],\n",
    "            label = labels[:len(hs)],\n",
    "            linestyle = linestyles[:len(hs)],\n",
    "            ax = ax2\n",
    "        )\n",
    "\n",
    "    if fit:\n",
    "        y_fit0 = None\n",
    "        for i, h in enumerate(hs):\n",
    "            x = h.axes[\"pt\"].centers\n",
    "            y = h.values(flow=showFlow)\n",
    "            y_err = h.variances(flow=showFlow)\n",
    "\n",
    "            params, covariance = curve_fit(exp_fall, x, y, p0=[10e5,0.1,5], sigma=y_err, absolute_sigma=True)\n",
    "            y_fit = exp_fall(x, *params)\n",
    "\n",
    "            ax1.plot(x, y_fit, linestyle=\"--\", color=colors(i))\n",
    "\n",
    "            if i==0:\n",
    "                y_fit0 = y_fit\n",
    "            elif ratio:\n",
    "                ax2.plot(x, y_fit/y_fit0, linestyle=\"--\", color=colors(i))\n",
    "            \n",
    "    \n",
    "    #     ax.fill_between(x, y - err, y + err, alpha=0.3, color=colors(i), step=\"post\")\n",
    "\n",
    "    # ax.text(1.0, 1.003, text_dict[base_process], transform=ax.transAxes, fontsize=30,\n",
    "    #         verticalalignment='bottom', horizontalalignment=\"right\")\n",
    "    plot_tools.addLegend(ax1, ncols=2, text_size=12)\n",
    "    # if ratio:\n",
    "    #     plot_name = plotname+\"_ratio\"\n",
    "    # else:\n",
    "    #     plot_name = plotname\n",
    "    plot_tools.save_pdf_and_png(output_dir, f\"closure_fakes_{name}\")\n",
    "\n",
    "    return hr"
   ]
  },
  {
   "cell_type": "code",
   "execution_count": 8,
   "id": "d3712f88-4137-4e0c-bcf1-d3881623f138",
   "metadata": {},
   "outputs": [
    {
     "ename": "NameError",
     "evalue": "name 'exp_fall' is not defined",
     "output_type": "error",
     "traceback": [
      "\u001b[0;31m---------------------------------------------------------------------------\u001b[0m",
      "\u001b[0;31mNameError\u001b[0m                                 Traceback (most recent call last)",
      "Cell \u001b[0;32mIn[8], line 1\u001b[0m\n\u001b[0;32m----> 1\u001b[0m hratio \u001b[38;5;241m=\u001b[39m \u001b[43mplot\u001b[49m\u001b[43m(\u001b[49m\u001b[43m[\u001b[49m\u001b[43mhQCDFake_pt\u001b[49m\u001b[43m,\u001b[49m\u001b[43m \u001b[49m\u001b[43mhQCDSig_pt\u001b[49m\u001b[43m]\u001b[49m\u001b[43m,\u001b[49m\u001b[43m \u001b[49m\u001b[43mlabels\u001b[49m\u001b[38;5;241;43m=\u001b[39;49m\u001b[43m[\u001b[49m\u001b[38;5;124;43m\"\u001b[39;49m\u001b[38;5;124;43mC*B/A\u001b[39;49m\u001b[38;5;124;43m\"\u001b[39;49m\u001b[43m,\u001b[49m\u001b[43m \u001b[49m\u001b[38;5;124;43m\"\u001b[39;49m\u001b[38;5;124;43mD\u001b[39;49m\u001b[38;5;124;43m\"\u001b[39;49m\u001b[43m]\u001b[49m\u001b[43m,\u001b[49m\u001b[43m \u001b[49m\u001b[43mname\u001b[49m\u001b[38;5;241;43m=\u001b[39;49m\u001b[38;5;124;43m\"\u001b[39;49m\u001b[38;5;124;43mQCD\u001b[39;49m\u001b[38;5;124;43m\"\u001b[39;49m\u001b[43m)\u001b[49m\n\u001b[1;32m      2\u001b[0m hratio[\u001b[38;5;241m1\u001b[39m]\u001b[38;5;241m.\u001b[39mvalues()\n",
      "Cell \u001b[0;32mIn[7], line 72\u001b[0m, in \u001b[0;36mplot\u001b[0;34m(hss, labels, linestyles, h1ds_nom, ratio, flow, showFlow, vars, name, fit, variances)\u001b[0m\n\u001b[1;32m     69\u001b[0m y \u001b[38;5;241m=\u001b[39m h\u001b[38;5;241m.\u001b[39mvalues(flow\u001b[38;5;241m=\u001b[39mshowFlow)\n\u001b[1;32m     70\u001b[0m y_err \u001b[38;5;241m=\u001b[39m h\u001b[38;5;241m.\u001b[39mvariances(flow\u001b[38;5;241m=\u001b[39mshowFlow)\n\u001b[0;32m---> 72\u001b[0m params, covariance \u001b[38;5;241m=\u001b[39m curve_fit(\u001b[43mexp_fall\u001b[49m, x, y, p0\u001b[38;5;241m=\u001b[39m[\u001b[38;5;241m10e5\u001b[39m,\u001b[38;5;241m0.1\u001b[39m,\u001b[38;5;241m5\u001b[39m], sigma\u001b[38;5;241m=\u001b[39my_err, absolute_sigma\u001b[38;5;241m=\u001b[39m\u001b[38;5;28;01mTrue\u001b[39;00m)\n\u001b[1;32m     73\u001b[0m y_fit \u001b[38;5;241m=\u001b[39m exp_fall(x, \u001b[38;5;241m*\u001b[39mparams)\n\u001b[1;32m     75\u001b[0m ax1\u001b[38;5;241m.\u001b[39mplot(x, y_fit, linestyle\u001b[38;5;241m=\u001b[39m\u001b[38;5;124m\"\u001b[39m\u001b[38;5;124m--\u001b[39m\u001b[38;5;124m\"\u001b[39m, color\u001b[38;5;241m=\u001b[39mcolors(i))\n",
      "\u001b[0;31mNameError\u001b[0m: name 'exp_fall' is not defined"
     ]
    },
    {
     "data": {
      "image/png": "[encoded data removed]",
      "text/plain": [
       "<Figure size 960x800 with 2 Axes>"
      ]
     },
     "metadata": {},
     "output_type": "display_data"
    }
   ],
   "source": [
    "hratio = plot([hQCDFake_pt, hQCDSig_pt], labels=[\"C*B/A\", \"D\"], name=\"QCD\")\n",
    "hratio[1].values()"
   ]
  },
  {
   "cell_type": "code",
   "execution_count": null,
   "id": "5c0df8d5-e639-4239-a490-83dc5622137e",
   "metadata": {},
   "outputs": [],
   "source": [
    "# plot fakes in each region separately\n",
    "idx_c=0\n",
    "idx_eta=0\n",
    "hQCD_D = hQCD[{\"charge\":idx_c,\"passIso\":1,\"passMT\":1}]\n",
    "hQCD_B = hQCD[{\"charge\":idx_c,\"passIso\":1,\"passMT\":0}]\n",
    "hQCD_C = hQCD[{\"charge\":idx_c,\"passIso\":0,\"passMT\":1}]\n",
    "hQCD_A = hQCD[{\"charge\":idx_c,\"passIso\":0,\"passMT\":0}]\n",
    "\n",
    "hQCD_A_pt = hQCD_A.project(\"pt\")\n",
    "hQCD_B_pt = hQCD_B.project(\"pt\")\n",
    "hQCD_C_pt = hQCD_C.project(\"pt\")\n",
    "hQCD_D_pt = hQCD_D.project(\"pt\")\n",
    "\n",
    "hQCDFake_BA_pt = hh.divideHists(hQCD_B,hQCD_A).project(\"pt\")\n",
    "hQCDFake_CBA_pt = hh.multiplyHists(hQCD_C,hh.divideHists(hQCD_B,hQCD_A)).project(\"pt\")\n",
    "\n",
    "plot([hQCD_D_pt, hQCD_A_pt, hQCD_B_pt, hQCD_C_pt], labels=[\"D\", \"A\", \"B\", \"C\"], name=\"QCD\", ratio=True)"
   ]
  },
  {
   "cell_type": "code",
   "execution_count": null,
   "id": "7f0110e6-de85-4fb1-bc45-5ab6d430d415",
   "metadata": {},
   "outputs": [],
   "source": [
    "# plot fakes in each region separately\n",
    "idx_c=0\n",
    "hQCD_D = hQCD[{\"charge\":idx_c,\"passIso\":1,\"passMT\":1}]\n",
    "hQCD_B = hQCD[{\"charge\":idx_c,\"passIso\":1,\"passMT\":0}]\n",
    "hQCD_C = hQCD[{\"charge\":idx_c,\"passIso\":0,\"passMT\":1}]\n",
    "hQCD_A = hQCD[{\"charge\":idx_c,\"passIso\":0,\"passMT\":0}]\n",
    "\n",
    "hQCD_A_pt = hQCD_A.project(\"pt\")\n",
    "hQCD_B_pt = hQCD_B.project(\"pt\")\n",
    "hQCD_C_pt = hQCD_C.project(\"pt\")\n",
    "hQCD_D_pt = hQCD_D.project(\"pt\")"
   ]
  },
  {
   "cell_type": "code",
   "execution_count": null,
   "id": "55041dd8-e787-4a36-ac97-c5dfa4b47c87",
   "metadata": {},
   "outputs": [],
   "source": [
    "hQCDFake_BA_pt = hh.divideHists(hQCD_B,hQCD_A).project(\"pt\")\n",
    "hQCDFake_CBA_pt = hh.multiplyHists(hQCD_C,hh.divideHists(hQCD_B,hQCD_A)).project(\"pt\")\n",
    "\n",
    "plot([hQCD_D_pt, hQCD_A_pt, hQCD_B_pt, hQCD_C_pt], labels=[\"D\", \"A\", \"B\", \"C\"], name=\"QCD\", ratio=True)"
   ]
  },
  {
   "cell_type": "code",
   "execution_count": null,
   "id": "f11ed5d5-5438-4a97-aa87-3b0847d4b16b",
   "metadata": {},
   "outputs": [],
   "source": [
    "# compute fakes via ABCD directly here, not using wremnants functions, check numerical stability\n",
    "hQCDFake_v1_pt = hh.multiplyHists(hQCD_C_pt,hh.divideHists(hQCD_B_pt,hQCD_A_pt))\n",
    "hQCDFake_v2_pt = hh.divideHists(hh.multiplyHists(hQCD_C_pt,hQCD_B_pt),hQCD_A_pt)\n",
    "\n",
    "plot([hQCD_D_pt, hQCDFake_v1_pt, hQCDFake_v2_pt], labels=[\"D\", \"C*B/A v1\", \"C*B/A v2\"], name=\"QCD\", fit=False, linestyles=[\"-\",\"--\", \":\"])"
   ]
  },
  {
   "cell_type": "code",
   "execution_count": null,
   "id": "ccd3973a-6552-4969-acc8-c9ae06f9714b",
   "metadata": {},
   "outputs": [],
   "source": [
    "import hist\n",
    "def unrolledHist(h, obs=['pt', 'eta']):\n",
    "    bins = np.multiply(*[len(a) for a in h.axes if a.name in obs])\n",
    "    newh = hist.Hist(hist.axis.Regular(bins, 0, bins), storage=h.storage_type())\n",
    "    newh[...] = np.ravel(h.project(*obs))\n",
    "    return newh"
   ]
  },
  {
   "cell_type": "code",
   "execution_count": null,
   "id": "2f446117-3776-4943-a2f2-9f6f2050c370",
   "metadata": {},
   "outputs": [],
   "source": [
    "vars = \"pt\",\"eta\"\n",
    "h1ds = [unrolledHist(h, obs=vars) if len(vars) > 1 else h.project(*vars) for h in [hQCDFake, hQCDSig]]\n",
    "plot(h1ds, [\"C*B/A\", \"D\"], name=\"QCD\", fit=False)"
   ]
  },
  {
   "cell_type": "code",
   "execution_count": null,
   "id": "0031168b-7bcb-432c-89cd-b9fac04499b6",
   "metadata": {},
   "outputs": [],
   "source": [
    "def project(flow=False):\n",
    "    # average over bins\n",
    "    if flow:\n",
    "        return lambda h, axes: h.project(*axes)/np.prod([a.extent for a in h.axes if a.name not in axes])\n",
    "    else:\n",
    "        return lambda h, axes: hh.projectNoFlow(h, axes)/np.prod([a.size for a in h.axes if a.name not in axes])\n",
    "\n",
    "def make_plot_2d(h, name, proc, axes, corr=None, plot_error=False, clim=None, flow=True, density=False, log=False):\n",
    "    \n",
    "    h2d = project(flow)(h, axes)\n",
    "\n",
    "    xlabel = styles.axis_labels.get(axes[0],axes[0])\n",
    "    ylabel = styles.axis_labels.get(axes[1],axes[1])\n",
    "\n",
    "    if flow:\n",
    "        xedges, yedges = plot_tools.extendEdgesByFlow(h2d)\n",
    "    else:\n",
    "        edges = h2d.axes.edges\n",
    "        xedges = np.reshape(edges[0], len(edges[0]))\n",
    "        yedges = edges[1][0]\n",
    "\n",
    "    if density:\n",
    "        xbinwidths = np.diff(xedges)\n",
    "        ybinwidths = np.diff(yedges)\n",
    "        binwidths = np.outer(xbinwidths, ybinwidths) \n",
    "        h2d.values(flow=flow)[...] = h2d.values(flow=flow) / binwidths\n",
    "\n",
    "    if plot_error:\n",
    "        # plot relative errors instead\n",
    "        h2d.values(flow=flow)[...] = np.sqrt(hh.relVariance(h2d.values(flow=flow), h2d.variances(flow=flow), fillOnes=True))\n",
    "\n",
    "    # if args.xlim[0] is None:\n",
    "    xlim = (xedges[0],xedges[-1])\n",
    "    # else:\n",
    "    #     xlim = args.xlim\n",
    "\n",
    "    # if args.ylim[0] is None:\n",
    "    ylim = (yedges[0],yedges[-1])\n",
    "    # else:\n",
    "    #     ylim = args.ylim\n",
    "\n",
    "    fig, ax = plot_tools.figure(h2d, xlabel=xlabel, ylabel=ylabel, cms_label=\"Work in progress\", automatic_scale=False, width_scale=1.2, xlim=xlim, ylim=ylim)\n",
    "\n",
    "    if clim is None:\n",
    "        if log:\n",
    "            cmin = min(h2d.values(flow=flow)[h2d.values(flow=flow)>0]) # smallest value that is not 0\n",
    "            cmax = h2d.values(flow=flow).max()\n",
    "        else:\n",
    "            cmin = max(0.95,h2d.values(flow=flow).min())\n",
    "            cmax = min(1.05,h2d.values(flow=flow).max())\n",
    "        # make symmetric range\n",
    "        crange = max((cmax-1), (1-cmin))\n",
    "        clim = [max(0.95,1-crange), min(1.05,1+crange)]\n",
    "    else:\n",
    "        colormesh = ax.pcolormesh(xedges, yedges, h2d.values(flow=flow).T, norm=LogNorm(vmin=clim[0], vmax=clim[1]), cmap=cm.RdBu)\n",
    "\n",
    "    if log:\n",
    "        colormesh = ax.pcolormesh(xedges, yedges, h2d.values(flow=flow).T, cmap=cm.RdBu, norm=LogNorm(vmin=clim[0], vmax=clim[1]))\n",
    "    else:\n",
    "        colormesh = ax.pcolormesh(xedges, yedges, h2d.values(flow=flow).T, cmap=cm.RdBu, vmin=clim[0], vmax=clim[1])\n",
    "\n",
    "    cbar = fig.colorbar(colormesh, ax=ax)\n",
    "\n",
    "    ax.text(1.0, 1.003, styles.text_dict.get(proc, proc), transform=ax.transAxes, fontsize=30,\n",
    "            verticalalignment='bottom', horizontalalignment=\"right\")\n",
    "\n",
    "    # outfile = f\"hist2d_{'_'.join(axes)}_{proc}_{name}\"\n",
    "    # if corr:\n",
    "    #     outfile += f'_{corr.replace(\"(\",\"\").replace(\")\",\"\")}'\n",
    "    # if args.postfix:\n",
    "    #     outfile += f\"_{args.postfix}\"\n",
    "    # plot_tools.save_pdf_and_png(outdir, outfile)\n",
    "    # plot_tools.write_index_and_log(outdir, outfile, args=args)\n",
    "    plot_tools.save_pdf_and_png(output_dir, f\"closure_fakes_2D_{name}\")"
   ]
  },
  {
   "cell_type": "code",
   "execution_count": null,
   "id": "5c6983c2-829e-498a-bea3-621c7f7105ab",
   "metadata": {},
   "outputs": [],
   "source": [
    "hQCDClosure = hh.divideHists(hQCDFake[{\"charge\":0}], hQCDSig[{\"charge\":0}])\n",
    "make_plot_2d(hQCDClosure, \"QCD_minus\", \"$QCD^{-}$\", [\"pt\",\"eta\"],clim=(0.1,1.9))"
   ]
  },
  {
   "cell_type": "code",
   "execution_count": null,
   "id": "c166bbad-5ea6-4f77-a98d-04205c7ea68b",
   "metadata": {},
   "outputs": [],
   "source": [
    "hQCDClosure = hh.divideHists(hQCDFake[{\"charge\":1}], hQCDSig[{\"charge\":1}])\n",
    "make_plot_2d(hQCDClosure, \"QCD_plus\", \"$QCD^{+}$\", [\"pt\",\"eta\"],clim=(0.1,1.9))"
   ]
  },
  {
   "cell_type": "code",
   "execution_count": null,
   "id": "1e7cf25c-ba0e-48cc-87c7-2c454ca84e7d",
   "metadata": {},
   "outputs": [],
   "source": []
  }
 ],
 "metadata": {
  "kernelspec": {
   "display_name": "Python 3 (ipykernel)",
   "language": "python",
   "name": "python3"
  },
  "language_info": {
   "codemirror_mode": {
    "name": "ipython",
    "version": 3
   },
   "file_extension": ".py",
   "mimetype": "text/x-python",
   "name": "python",
   "nbconvert_exporter": "python",
   "pygments_lexer": "ipython3",
   "version": "3.11.6"
  }
 },
 "nbformat": 4,
 "nbformat_minor": 5
}
